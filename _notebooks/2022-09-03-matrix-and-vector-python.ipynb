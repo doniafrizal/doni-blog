{
 "cells": [
  {
   "cell_type": "code",
   "execution_count": 1,
   "outputs": [],
   "source": [
    "import numpy as np"
   ],
   "metadata": {
    "collapsed": false,
    "pycharm": {
     "name": "#%% Numpy Import\n"
    }
   }
  },
  {
   "cell_type": "code",
   "execution_count": 4,
   "metadata": {
    "collapsed": true,
    "pycharm": {
     "name": "#%% Initialize matrix A and B\n"
    }
   },
   "outputs": [],
   "source": [
    "A = [[1, 2, 4], [5, 3, 2]]\n",
    "B = [[1, 3, 4], [1, 1, 1]]"
   ]
  },
  {
   "cell_type": "code",
   "execution_count": 7,
   "outputs": [
    {
     "data": {
      "text/plain": "[[1, 2, 4], [5, 3, 2]]"
     },
     "execution_count": 7,
     "metadata": {},
     "output_type": "execute_result"
    }
   ],
   "source": [
    "A"
   ],
   "metadata": {
    "collapsed": false,
    "pycharm": {
     "name": "#%% Show Matrix A\n"
    }
   }
  },
  {
   "cell_type": "code",
   "execution_count": 8,
   "outputs": [
    {
     "data": {
      "text/plain": "[[1, 3, 4], [1, 1, 1]]"
     },
     "execution_count": 8,
     "metadata": {},
     "output_type": "execute_result"
    }
   ],
   "source": [
    "B\n"
   ],
   "metadata": {
    "collapsed": false,
    "pycharm": {
     "name": "#%% Show Matrix B\n"
    }
   }
  },
  {
   "cell_type": "code",
   "execution_count": 11,
   "outputs": [
    {
     "data": {
      "text/plain": "array([[1, 2, 4],\n       [5, 3, 2]])"
     },
     "execution_count": 11,
     "metadata": {},
     "output_type": "execute_result"
    }
   ],
   "source": [
    "A_np = np.array(A)\n",
    "A_np"
   ],
   "metadata": {
    "collapsed": false,
    "pycharm": {
     "name": "#%% Convert Matrix A from List to Numpy Array\n"
    }
   }
  },
  {
   "cell_type": "code",
   "execution_count": 12,
   "outputs": [
    {
     "data": {
      "text/plain": "array([[1, 3, 4],\n       [1, 1, 1]])"
     },
     "execution_count": 12,
     "metadata": {},
     "output_type": "execute_result"
    }
   ],
   "source": [
    "B_np = np.array(B)\n",
    "B_np"
   ],
   "metadata": {
    "collapsed": false,
    "pycharm": {
     "name": "#%% Convert Matrix B from List to Numpy Array\n"
    }
   }
  },
  {
   "cell_type": "code",
   "execution_count": 13,
   "outputs": [],
   "source": [
    "s = 2"
   ],
   "metadata": {
    "collapsed": false,
    "pycharm": {
     "name": "#%% Initialize constant s\n"
    }
   }
  },
  {
   "cell_type": "code",
   "execution_count": 14,
   "outputs": [
    {
     "data": {
      "text/plain": "array([[2, 5, 8],\n       [6, 4, 3]])"
     },
     "execution_count": 14,
     "metadata": {},
     "output_type": "execute_result"
    }
   ],
   "source": [
    "add_AB = A_np + B_np\n",
    "add_AB"
   ],
   "metadata": {
    "collapsed": false,
    "pycharm": {
     "name": "#%% See how element-wise addition works\n"
    }
   }
  },
  {
   "cell_type": "code",
   "execution_count": 16,
   "outputs": [
    {
     "data": {
      "text/plain": "array([[ 0, -1,  0],\n       [ 4,  2,  1]])"
     },
     "execution_count": 16,
     "metadata": {},
     "output_type": "execute_result"
    }
   ],
   "source": [
    "sub_AB = A_np - B_np\n",
    "sub_AB"
   ],
   "metadata": {
    "collapsed": false,
    "pycharm": {
     "name": "#%% See how element-wise subtraction works\n"
    }
   }
  },
  {
   "cell_type": "code",
   "execution_count": 17,
   "outputs": [
    {
     "data": {
      "text/plain": "array([[ 2,  4,  8],\n       [10,  6,  4]])"
     },
     "execution_count": 17,
     "metadata": {},
     "output_type": "execute_result"
    }
   ],
   "source": [
    "mult_As = A_np * s\n",
    "mult_As"
   ],
   "metadata": {
    "collapsed": false,
    "pycharm": {
     "name": "#%% See how scalar multiplication works\n"
    }
   }
  },
  {
   "cell_type": "code",
   "execution_count": 18,
   "outputs": [
    {
     "data": {
      "text/plain": "array([[0.5, 1. , 2. ],\n       [2.5, 1.5, 1. ]])"
     },
     "execution_count": 18,
     "metadata": {},
     "output_type": "execute_result"
    }
   ],
   "source": [
    "div_As = A_np / s\n",
    "div_As"
   ],
   "metadata": {
    "collapsed": false,
    "pycharm": {
     "name": "#%% Divide A by s\n"
    }
   }
  },
  {
   "cell_type": "code",
   "execution_count": 19,
   "outputs": [
    {
     "data": {
      "text/plain": "array([[3, 4, 6],\n       [7, 5, 4]])"
     },
     "execution_count": 19,
     "metadata": {},
     "output_type": "execute_result"
    }
   ],
   "source": [
    "add_As = A_np + s\n",
    "add_As\n"
   ],
   "metadata": {
    "collapsed": false,
    "pycharm": {
     "name": "#%% What happens if we have a Matrix + scalar?\n"
    }
   }
  }
 ],
 "metadata": {
  "kernelspec": {
   "name": "ds2022",
   "language": "python",
   "display_name": "DS2022"
  },
  "language_info": {
   "codemirror_mode": {
    "name": "ipython",
    "version": 2
   },
   "file_extension": ".py",
   "mimetype": "text/x-python",
   "name": "python",
   "nbconvert_exporter": "python",
   "pygments_lexer": "ipython2",
   "version": "2.7.6"
  }
 },
 "nbformat": 4,
 "nbformat_minor": 0
}