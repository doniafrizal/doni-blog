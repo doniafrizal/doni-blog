{
 "cells": [
  {
   "cell_type": "markdown",
   "source": [
    "\n",
    "# Matrix and Vector Numpy\n",
    "\n",
    "This notebook will just go through the basic topics in order:\n",
    "\n",
    "* Matrix\n",
    "   \n",
    "* Vector \n",
    "\n",
    "- toc: true \n",
    "- badges: true\n",
    "- comments: true\n",
    "- categories: [python]"
   ],
   "metadata": {
    "collapsed": false
   }
  },
  {
   "cell_type": "code",
   "execution_count": 33,
   "outputs": [],
   "source": [
    "import numpy as np"
   ],
   "metadata": {
    "collapsed": false,
    "pycharm": {
     "name": "#%% Numpy Import\n"
    }
   }
  },
  {
   "cell_type": "code",
   "execution_count": 34,
   "metadata": {
    "collapsed": true,
    "pycharm": {
     "name": "#%% Initialize matrix A and B\n"
    }
   },
   "outputs": [],
   "source": [
    "A = [[1, 2, 4], [5, 3, 2]]\n",
    "B = [[1, 3, 4], [1, 1, 1]]"
   ]
  },
  {
   "cell_type": "code",
   "execution_count": 35,
   "outputs": [
    {
     "data": {
      "text/plain": "[[1, 2, 4], [5, 3, 2]]"
     },
     "execution_count": 35,
     "metadata": {},
     "output_type": "execute_result"
    }
   ],
   "source": [
    "A"
   ],
   "metadata": {
    "collapsed": false,
    "pycharm": {
     "name": "#%% Show Matrix A\n"
    }
   }
  },
  {
   "cell_type": "code",
   "execution_count": 36,
   "outputs": [
    {
     "data": {
      "text/plain": "[[1, 3, 4], [1, 1, 1]]"
     },
     "execution_count": 36,
     "metadata": {},
     "output_type": "execute_result"
    }
   ],
   "source": [
    "B\n"
   ],
   "metadata": {
    "collapsed": false,
    "pycharm": {
     "name": "#%% Show Matrix B\n"
    }
   }
  },
  {
   "cell_type": "code",
   "execution_count": 37,
   "outputs": [
    {
     "data": {
      "text/plain": "array([[1, 2, 4],\n       [5, 3, 2]])"
     },
     "execution_count": 37,
     "metadata": {},
     "output_type": "execute_result"
    }
   ],
   "source": [
    "A_np = np.array(A)\n",
    "A_np"
   ],
   "metadata": {
    "collapsed": false,
    "pycharm": {
     "name": "#%% Convert Matrix A from List to Numpy Array\n"
    }
   }
  },
  {
   "cell_type": "code",
   "execution_count": 38,
   "outputs": [
    {
     "data": {
      "text/plain": "array([[1, 3, 4],\n       [1, 1, 1]])"
     },
     "execution_count": 38,
     "metadata": {},
     "output_type": "execute_result"
    }
   ],
   "source": [
    "B_np = np.array(B)\n",
    "B_np"
   ],
   "metadata": {
    "collapsed": false,
    "pycharm": {
     "name": "#%% Convert Matrix B from List to Numpy Array\n"
    }
   }
  },
  {
   "cell_type": "code",
   "execution_count": 39,
   "outputs": [],
   "source": [
    "s = 2"
   ],
   "metadata": {
    "collapsed": false,
    "pycharm": {
     "name": "#%% Initialize constant s\n"
    }
   }
  },
  {
   "cell_type": "code",
   "execution_count": 40,
   "outputs": [
    {
     "data": {
      "text/plain": "array([[2, 5, 8],\n       [6, 4, 3]])"
     },
     "execution_count": 40,
     "metadata": {},
     "output_type": "execute_result"
    }
   ],
   "source": [
    "add_AB = A_np + B_np\n",
    "add_AB"
   ],
   "metadata": {
    "collapsed": false,
    "pycharm": {
     "name": "#%% See how element-wise addition works\n"
    }
   }
  },
  {
   "cell_type": "code",
   "execution_count": 41,
   "outputs": [
    {
     "data": {
      "text/plain": "array([[ 0, -1,  0],\n       [ 4,  2,  1]])"
     },
     "execution_count": 41,
     "metadata": {},
     "output_type": "execute_result"
    }
   ],
   "source": [
    "sub_AB = A_np - B_np\n",
    "sub_AB"
   ],
   "metadata": {
    "collapsed": false,
    "pycharm": {
     "name": "#%% See how element-wise subtraction works\n"
    }
   }
  },
  {
   "cell_type": "code",
   "execution_count": 42,
   "outputs": [
    {
     "data": {
      "text/plain": "array([[ 2,  4,  8],\n       [10,  6,  4]])"
     },
     "execution_count": 42,
     "metadata": {},
     "output_type": "execute_result"
    }
   ],
   "source": [
    "mult_As = A_np * s\n",
    "mult_As"
   ],
   "metadata": {
    "collapsed": false,
    "pycharm": {
     "name": "#%% See how scalar multiplication works\n"
    }
   }
  },
  {
   "cell_type": "code",
   "execution_count": 43,
   "outputs": [
    {
     "data": {
      "text/plain": "array([[0.5, 1. , 2. ],\n       [2.5, 1.5, 1. ]])"
     },
     "execution_count": 43,
     "metadata": {},
     "output_type": "execute_result"
    }
   ],
   "source": [
    "div_As = A_np / s\n",
    "div_As"
   ],
   "metadata": {
    "collapsed": false,
    "pycharm": {
     "name": "#%% Divide A by s\n"
    }
   }
  },
  {
   "cell_type": "code",
   "execution_count": 44,
   "outputs": [
    {
     "data": {
      "text/plain": "array([[3, 4, 6],\n       [7, 5, 4]])"
     },
     "execution_count": 44,
     "metadata": {},
     "output_type": "execute_result"
    }
   ],
   "source": [
    "add_As = A_np + s\n",
    "add_As"
   ],
   "metadata": {
    "collapsed": false,
    "pycharm": {
     "name": "#%% What happens if we have a Matrix + scalar?\n"
    }
   }
  },
  {
   "cell_type": "code",
   "execution_count": 45,
   "outputs": [
    {
     "data": {
      "text/plain": "array([[1],\n       [1],\n       [1]])"
     },
     "execution_count": 45,
     "metadata": {},
     "output_type": "execute_result"
    }
   ],
   "source": [
    "v = np.array([[1],[1],[1]])\n",
    "v\n"
   ],
   "metadata": {
    "collapsed": false,
    "pycharm": {
     "name": "#%% Initialize vector v\n"
    }
   }
  },
  {
   "cell_type": "code",
   "execution_count": 46,
   "outputs": [
    {
     "data": {
      "text/plain": "array([[ 7],\n       [10]])"
     },
     "execution_count": 46,
     "metadata": {},
     "output_type": "execute_result"
    }
   ],
   "source": [
    "Av = A_np @ v\n",
    "Av"
   ],
   "metadata": {
    "collapsed": false,
    "pycharm": {
     "name": "#%% Multiply A * v\n"
    }
   }
  }
 ],
 "metadata": {
  "kernelspec": {
   "name": "ds2022",
   "language": "python",
   "display_name": "DS2022"
  },
  "language_info": {
   "codemirror_mode": {
    "name": "ipython",
    "version": 2
   },
   "file_extension": ".py",
   "mimetype": "text/x-python",
   "name": "python",
   "nbconvert_exporter": "python",
   "pygments_lexer": "ipython2",
   "version": "2.7.6"
  }
 },
 "nbformat": 4,
 "nbformat_minor": 0
}